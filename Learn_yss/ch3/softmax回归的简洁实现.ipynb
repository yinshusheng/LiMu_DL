{
 "cells": [
  {
   "cell_type": "code",
   "execution_count": 46,
   "id": "fc06f2a4-eae5-4b38-a571-46e0d1c89ff1",
   "metadata": {},
   "outputs": [],
   "source": [
    "import torch  \n",
    "from torch import nn  \n",
    "from d2l import torch as d2l"
   ]
  },
  {
   "cell_type": "markdown",
   "id": "fcde1c46-1bd8-495b-b4dd-75ba639f4e11",
   "metadata": {},
   "source": [
    "# 1.加载数据"
   ]
  },
  {
   "cell_type": "code",
   "execution_count": 49,
   "id": "0cdddd29-536a-4c69-9979-e28deec256ed",
   "metadata": {},
   "outputs": [],
   "source": [
    "batch_size = 256  \n",
    "train_iter, test_iter = d2l.load_data_fashion_mnist(batch_size)"
   ]
  },
  {
   "cell_type": "markdown",
   "id": "bfb1cb06-7f33-421c-8e12-447d2c348d23",
   "metadata": {},
   "source": [
    "## 2. 定义Model"
   ]
  },
  {
   "cell_type": "code",
   "execution_count": 52,
   "id": "af8d8975-4b7a-48e1-8995-1a30960c970b",
   "metadata": {},
   "outputs": [],
   "source": [
    "# 定义一个简单的神经网络\n",
    "net = nn.Sequential(\n",
    "    nn.Flatten(),  # 将输入展平成一维向量\n",
    "    nn.Linear(784, 10)  # 线性层：输入特征数为784，输出特征数为10\n",
    ")"
   ]
  },
  {
   "cell_type": "markdown",
   "id": "5be40b57-39a0-4dda-876c-255e879bbb81",
   "metadata": {},
   "source": [
    "## 3.初始化参数"
   ]
  },
  {
   "cell_type": "code",
   "execution_count": 55,
   "id": "33cde9f4-db26-4b17-b067-089777451e2a",
   "metadata": {},
   "outputs": [
    {
     "data": {
      "text/plain": [
       "Sequential(\n",
       "  (0): Flatten(start_dim=1, end_dim=-1)\n",
       "  (1): Linear(in_features=784, out_features=10, bias=True)\n",
       ")"
      ]
     },
     "execution_count": 55,
     "metadata": {},
     "output_type": "execute_result"
    }
   ],
   "source": [
    "# 定义初始化函数\n",
    "def init_weights(m):\n",
    "    if type(m) == nn.Linear:  # 判断传入的模块类型是否是nn.Linear\n",
    "        nn.init.normal_(m.weight, std=0.01)  # 对权重进行正态分布初始化，标准差为0.01\n",
    "\n",
    "# 对网络的所有子模块应用初始化\n",
    "net.apply(init_weights)"
   ]
  },
  {
   "cell_type": "markdown",
   "id": "f0eba027-da00-4460-90d4-c852b1b5581e",
   "metadata": {},
   "source": [
    "## apply 的工作原理：\n",
    "1. apply 方法会递归地访问 nn.Sequential 或其他 nn.Module 容器中的每个子模块。\n",
    "2. 对于每个子模块，调用用户定义的函数（如 init_weights），并将子模块作为参数传递。\n",
    "3. 如果用户的函数对该子模块进行了修改，则这些修改会直接生效。\n",
    "例如，net.apply(init_weights) 的过程大致如下：\n",
    "- 遍历 net 的子模块：\n",
    "  1. 第一个子模块是 nn.Flatten，传递给 init_weights。\n",
    "  2. 第二个子模块是 nn.Linear，传递给 init_weights。\n",
    "- 在 init_weights 中，如果检测到 m 是 nn.Linear 类型，则对其权重进行初始化。"
   ]
  },
  {
   "cell_type": "markdown",
   "id": "9f88c7d2-a6c2-4ab4-914b-7ce8a68e5019",
   "metadata": {},
   "source": [
    "## 4.定义损失函数"
   ]
  },
  {
   "cell_type": "code",
   "execution_count": 59,
   "id": "b3f6f6e2-34c2-4b4d-8cc2-dff78d30ccac",
   "metadata": {},
   "outputs": [],
   "source": [
    "loss = nn.CrossEntropyLoss(reduction='none')"
   ]
  },
  {
   "cell_type": "markdown",
   "id": "1fecb405-b14f-4853-8627-5bc4501e32e9",
   "metadata": {},
   "source": [
    "## 5.定义优化算法"
   ]
  },
  {
   "cell_type": "code",
   "execution_count": 62,
   "id": "66f522b4-8188-42f7-8a88-51afc12a7688",
   "metadata": {},
   "outputs": [],
   "source": [
    "trainer = torch.optim.SGD(net.parameters(), lr=0.1)"
   ]
  },
  {
   "cell_type": "markdown",
   "id": "cdf61329-7dbf-427a-93de-554ada557f52",
   "metadata": {},
   "source": [
    "## 6.训练"
   ]
  },
  {
   "cell_type": "code",
   "execution_count": 81,
   "id": "28a3868e-0452-4aa7-bdf5-111eebe5d3d1",
   "metadata": {},
   "outputs": [
    {
     "ename": "AttributeError",
     "evalue": "module 'd2l.torch' has no attribute 'train_ch3'",
     "output_type": "error",
     "traceback": [
      "\u001b[1;31m---------------------------------------------------------------------------\u001b[0m",
      "\u001b[1;31mAttributeError\u001b[0m                            Traceback (most recent call last)",
      "Cell \u001b[1;32mIn[81], line 2\u001b[0m\n\u001b[0;32m      1\u001b[0m num_epochs \u001b[38;5;241m=\u001b[39m \u001b[38;5;241m10\u001b[39m  \n\u001b[1;32m----> 2\u001b[0m \u001b[43md2l\u001b[49m\u001b[38;5;241;43m.\u001b[39;49m\u001b[43mtrain_ch3\u001b[49m(net, train_iter, test_iter, loss, num_epochs, trainer)\n",
      "\u001b[1;31mAttributeError\u001b[0m: module 'd2l.torch' has no attribute 'train_ch3'"
     ]
    }
   ],
   "source": [
    "num_epochs = 10  \n",
    "d2l.train_ch3(net, train_iter, test_iter, loss, num_epochs, trainer)"
   ]
  },
  {
   "cell_type": "code",
   "execution_count": null,
   "id": "12705e8e-4e70-40d1-93fa-84869e7dbad8",
   "metadata": {},
   "outputs": [],
   "source": []
  },
  {
   "cell_type": "code",
   "execution_count": null,
   "id": "d03aac6d-eb3f-4617-ae80-defeeb69d142",
   "metadata": {},
   "outputs": [],
   "source": []
  }
 ],
 "metadata": {
  "kernelspec": {
   "display_name": "RS",
   "language": "python",
   "name": "rs"
  },
  "language_info": {
   "codemirror_mode": {
    "name": "ipython",
    "version": 3
   },
   "file_extension": ".py",
   "mimetype": "text/x-python",
   "name": "python",
   "nbconvert_exporter": "python",
   "pygments_lexer": "ipython3",
   "version": "3.11.10"
  }
 },
 "nbformat": 4,
 "nbformat_minor": 5
}
