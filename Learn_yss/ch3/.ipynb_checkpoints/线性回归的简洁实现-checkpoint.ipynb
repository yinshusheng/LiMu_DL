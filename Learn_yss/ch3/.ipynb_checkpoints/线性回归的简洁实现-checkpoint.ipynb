{
 "cells": [
  {
   "cell_type": "markdown",
   "id": "168ab148-fff1-4715-a744-5d0bbd466251",
   "metadata": {},
   "source": [
    "## 0.导入相关的库"
   ]
  },
  {
   "cell_type": "code",
   "execution_count": 8,
   "id": "6f32f1aa-4e0a-4038-8bee-5d4d33fad9ac",
   "metadata": {},
   "outputs": [],
   "source": [
    "import numpy as np  \n",
    "import torch  \n",
    "from torch.utils import data  \n",
    "from d2l import torch as d2l"
   ]
  },
  {
   "cell_type": "markdown",
   "id": "63e74bb2-bfd1-430d-b744-2813bf7bdcea",
   "metadata": {},
   "source": [
    "## 1.生成数据"
   ]
  },
  {
   "cell_type": "code",
   "execution_count": 11,
   "id": "abfa5c51-d747-4a91-952f-4bd540948ef5",
   "metadata": {},
   "outputs": [],
   "source": [
    "true_w = torch.tensor([2, -3.4])  \n",
    "true_b = 4.2  \n",
    "features, labels = d2l.synthetic_data(true_w, true_b, 1000)"
   ]
  },
  {
   "cell_type": "markdown",
   "id": "a95cf3dd-e600-49c3-bd91-96fb01ea21f0",
   "metadata": {},
   "source": [
    "### 2.读取数据"
   ]
  },
  {
   "cell_type": "code",
   "execution_count": 14,
   "id": "9039668b-8afc-45d1-9351-419c5165ba2a",
   "metadata": {},
   "outputs": [],
   "source": [
    "def load_array(data_arrays, batch_size, is_train=True): #@save  \n",
    "    \"\"\"构造一个PyTorch数据迭代器\"\"\"  \n",
    "    dataset = data.TensorDataset(*data_arrays)  \n",
    "    return data.DataLoader(dataset, batch_size, shuffle=is_train)"
   ]
  },
  {
   "cell_type": "code",
   "execution_count": 16,
   "id": "ee14ee56-fa3a-435b-bc16-49eefd3552a7",
   "metadata": {},
   "outputs": [],
   "source": [
    "batch_size = 10  \n",
    "data_iter = load_array((features, labels), batch_size)"
   ]
  },
  {
   "cell_type": "code",
   "execution_count": 18,
   "id": "86cfa31e-3726-4dde-bfb6-c43b391a19dd",
   "metadata": {},
   "outputs": [
    {
     "data": {
      "text/plain": [
       "[tensor([[ 0.1069,  0.6919],\n",
       "         [ 0.4586, -1.1259],\n",
       "         [ 2.7397, -0.4089],\n",
       "         [-0.2334,  0.7479],\n",
       "         [-0.9648,  1.3937],\n",
       "         [ 0.9764, -1.2617],\n",
       "         [-0.1442, -0.2506],\n",
       "         [ 0.2810, -0.2740],\n",
       "         [-0.9762, -0.4124],\n",
       "         [-1.4484, -0.4283]]),\n",
       " tensor([[ 2.0535],\n",
       "         [ 8.9446],\n",
       "         [11.0728],\n",
       "         [ 1.1804],\n",
       "         [-2.4793],\n",
       "         [10.4396],\n",
       "         [ 4.7408],\n",
       "         [ 5.6877],\n",
       "         [ 3.6572],\n",
       "         [ 2.7500]])]"
      ]
     },
     "execution_count": 18,
     "metadata": {},
     "output_type": "execute_result"
    }
   ],
   "source": [
    "next(iter(data_iter))"
   ]
  },
  {
   "cell_type": "markdown",
   "id": "66f44b9f-350b-4615-82ba-6281bfb82194",
   "metadata": {},
   "source": [
    "## 3.定义模型"
   ]
  },
  {
   "cell_type": "code",
   "execution_count": 27,
   "id": "704f08ae-4171-491f-9145-0ca37ecc82f7",
   "metadata": {},
   "outputs": [
    {
     "data": {
      "text/plain": [
       "Linear(in_features=2, out_features=1, bias=True)"
      ]
     },
     "execution_count": 27,
     "metadata": {},
     "output_type": "execute_result"
    }
   ],
   "source": [
    "# nn是神经网络的缩写  \n",
    "from torch import nn\n",
    "model = nn.Sequential(nn.Linear(2, 1))#加一个线性层输入两个参数、输出一个参数\n",
    "model[0]"
   ]
  },
  {
   "cell_type": "markdown",
   "id": "9dfa37e7-3221-483a-b265-e7cbee5aee48",
   "metadata": {},
   "source": [
    "## 4.初始化模型参数以及超参数"
   ]
  },
  {
   "cell_type": "code",
   "execution_count": 69,
   "id": "5a5f29be-8c87-492d-8dad-c3bb44f9b7d3",
   "metadata": {},
   "outputs": [],
   "source": [
    "model[0].weight.data.normal_(0, 0.01)  \n",
    "model[0].bias.data.fill_(0)\n",
    "lr_=0.03\n",
    "epochs_ = 3"
   ]
  },
  {
   "cell_type": "markdown",
   "id": "e181e949-f901-4d88-8584-ebe64b039a16",
   "metadata": {},
   "source": [
    "## 5.定义损失函数"
   ]
  },
  {
   "cell_type": "code",
   "execution_count": 72,
   "id": "81c2888b-c23d-4903-8a61-6ec4b06de6e4",
   "metadata": {},
   "outputs": [],
   "source": [
    "loss = nn.MSELoss()"
   ]
  },
  {
   "cell_type": "markdown",
   "id": "3deacf41-ffa5-4574-b803-2fd42df26058",
   "metadata": {},
   "source": [
    "## 6.定义优化算法"
   ]
  },
  {
   "cell_type": "code",
   "execution_count": 75,
   "id": "f39cad98-8f3c-4c74-aeef-e8ad7392ebac",
   "metadata": {},
   "outputs": [],
   "source": [
    "trainer = torch.optim.SGD(model.parameters(), lr=lr_)"
   ]
  },
  {
   "attachments": {
    "09e25aaf-6091-4e51-8ec5-02309b4a2aba.png": {
     "image/png": "[encoded data removed]"
    }
   },
   "cell_type": "markdown",
   "id": "c514d8bd-9a5a-46c4-b6e8-35fd417ca876",
   "metadata": {},
   "source": [
    "## 7.训练\n",
    "![image.png](attachment:09e25aaf-6091-4e51-8ec5-02309b4a2aba.png)"
   ]
  },
  {
   "cell_type": "code",
   "execution_count": 80,
   "id": "4b7e7678-cc9a-44de-828f-9e5d6d2fb526",
   "metadata": {},
   "outputs": [
    {
     "name": "stdout",
     "output_type": "stream",
     "text": [
      "epoch 1, loss 0.000099\n",
      "epoch 2, loss 0.000098\n",
      "epoch 3, loss 0.000098\n"
     ]
    }
   ],
   "source": [
    "for epoch in range(epochs_):  \n",
    "    for X, y in data_iter:  \n",
    "        l = loss(model(X) ,y) # 在nn框架中model里存放了参数，因此不用输入参数#loss函数也进行了求和，即总损失\n",
    "        trainer.zero_grad() #先梯度清零 \n",
    "        l.backward()       #计算当前梯度\n",
    "        trainer.step()   #更新模型的参数\n",
    "    l = loss(model(features), labels)  \n",
    "    print(f'epoch {epoch + 1}, loss {l:f}')"
   ]
  },
  {
   "cell_type": "markdown",
   "id": "bbac9e3f-0787-445d-acf3-b17abe365d70",
   "metadata": {},
   "source": [
    "## 8.评估"
   ]
  },
  {
   "cell_type": "code",
   "execution_count": 66,
   "id": "066978b4-b847-49a6-8847-da19be6bc40e",
   "metadata": {},
   "outputs": [
    {
     "name": "stdout",
     "output_type": "stream",
     "text": [
      "w的估计误差: tensor([-0.0003, -0.0014])\n",
      "b的估计误差: tensor([-0.0004])\n"
     ]
    }
   ],
   "source": [
    "w = model[0].weight.data  \n",
    "print('w的估计误差:', true_w - w.reshape(true_w.shape))  \n",
    "b = model[0].bias.data  \n",
    "print('b的估计误差:', true_b - b)"
   ]
  },
  {
   "cell_type": "code",
   "execution_count": null,
   "id": "5a70f6bf-f097-479f-974b-62eec4a14b30",
   "metadata": {},
   "outputs": [],
   "source": []
  }
 ],
 "metadata": {
  "kernelspec": {
   "display_name": "RS",
   "language": "python",
   "name": "rs"
  },
  "language_info": {
   "codemirror_mode": {
    "name": "ipython",
    "version": 3
   },
   "file_extension": ".py",
   "mimetype": "text/x-python",
   "name": "python",
   "nbconvert_exporter": "python",
   "pygments_lexer": "ipython3",
   "version": "3.11.10"
  }
 },
 "nbformat": 4,
 "nbformat_minor": 5
}
