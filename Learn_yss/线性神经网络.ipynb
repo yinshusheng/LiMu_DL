{
 "cells": [
  {
   "cell_type": "markdown",
   "id": "b4454a0d-2e97-4f91-ac00-c3b25603a0c5",
   "metadata": {},
   "source": [
    "# 一、线性回归"
   ]
  },
  {
   "cell_type": "raw",
   "id": "9b89ea40-881b-4ad7-918c-e0d7e180af43",
   "metadata": {},
   "source": []
  }
 ],
 "metadata": {
  "kernelspec": {
   "display_name": "RS",
   "language": "python",
   "name": "rs"
  },
  "language_info": {
   "codemirror_mode": {
    "name": "ipython",
    "version": 3
   },
   "file_extension": ".py",
   "mimetype": "text/x-python",
   "name": "python",
   "nbconvert_exporter": "python",
   "pygments_lexer": "ipython3",
   "version": "3.11.10"
  }
 },
 "nbformat": 4,
 "nbformat_minor": 5
}
