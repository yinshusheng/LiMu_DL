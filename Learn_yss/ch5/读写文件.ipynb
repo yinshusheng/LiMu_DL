{
 "cells": [
  {
   "cell_type": "code",
   "execution_count": 5,
   "id": "fc3af98f-039b-4f54-9a19-8673c0b09c23",
   "metadata": {},
   "outputs": [],
   "source": [
    "import torch  \n",
    "from torch import nn \n",
    "from torch.nn import functional as F "
   ]
  },
  {
   "cell_type": "markdown",
   "id": "ca52ebf5-dcf7-4df6-8e2a-d0d82c8ab13f",
   "metadata": {},
   "source": [
    "## 一、读写Tensor"
   ]
  },
  {
   "cell_type": "markdown",
   "id": "06fa2c4e-f506-4ffa-9ba9-ccb9ff5872eb",
   "metadata": {},
   "source": [
    "(1)单个张量"
   ]
  },
  {
   "cell_type": "code",
   "execution_count": 19,
   "id": "8a70f065-7aad-4d42-8244-b181bdcb4de0",
   "metadata": {},
   "outputs": [],
   "source": [
    " x = torch.arange(4)  \n",
    "torch.save(x, 'x-file')"
   ]
  },
  {
   "cell_type": "code",
   "execution_count": 21,
   "id": "02cb7a55-b385-410e-9c75-78abd1df69f2",
   "metadata": {},
   "outputs": [
    {
     "data": {
      "text/plain": [
       "tensor([0, 1, 2, 3])"
      ]
     },
     "execution_count": 21,
     "metadata": {},
     "output_type": "execute_result"
    }
   ],
   "source": [
    "x2 = torch.load('x-file',weights_only=True) \n",
    "x2"
   ]
  },
  {
   "cell_type": "markdown",
   "id": "5d91eb09-bf21-48bb-9ada-08c371fd669e",
   "metadata": {},
   "source": [
    "(2)张量列表"
   ]
  },
  {
   "cell_type": "code",
   "execution_count": 24,
   "id": "49358980-81c6-4ec7-8d57-ef8b4cb81eb9",
   "metadata": {},
   "outputs": [
    {
     "data": {
      "text/plain": [
       "(tensor([0, 1, 2, 3]), tensor([0., 0., 0., 0.]))"
      ]
     },
     "execution_count": 24,
     "metadata": {},
     "output_type": "execute_result"
    }
   ],
   "source": [
    "y = torch.zeros(4) \n",
    "torch.save([x, y],'x-files')  \n",
    "x2, y2 = torch.load('x-files',weights_only=True)  \n",
    "(x2, y2)"
   ]
  },
  {
   "cell_type": "markdown",
   "id": "a8a60de0-af5d-4902-b4fa-40b33c52dda9",
   "metadata": {},
   "source": [
    "(3)从字符串映射到张量的字典"
   ]
  },
  {
   "cell_type": "code",
   "execution_count": 15,
   "id": "7a72c7f2-fc38-43d4-b8fc-8754c008a9f0",
   "metadata": {},
   "outputs": [
    {
     "data": {
      "text/plain": [
       "{'x': tensor([0, 1, 2, 3]), 'y': tensor([0., 0., 0., 0.])}"
      ]
     },
     "execution_count": 15,
     "metadata": {},
     "output_type": "execute_result"
    }
   ],
   "source": [
    "mydict = {'x': x, 'y': y} \n",
    "torch.save(mydict, 'mydict')  \n",
    "mydict2 = torch.load('mydict',weights_only=True)  \n",
    "mydict2"
   ]
  },
  {
   "cell_type": "markdown",
   "id": "5b80f793-a260-44e8-892d-a35cbea6eb92",
   "metadata": {},
   "source": [
    "## 二、加载和保存模型参数"
   ]
  },
  {
   "cell_type": "code",
   "execution_count": 53,
   "id": "cab4b649-0f1e-42d7-80c9-aa676202e1af",
   "metadata": {},
   "outputs": [
    {
     "name": "stdout",
     "output_type": "stream",
     "text": [
      "tensor([[-0.1398,  0.0443,  0.0252,  0.3792, -0.2074, -0.0826, -0.0323, -0.0907,\n",
      "          0.2201,  0.0127],\n",
      "        [ 0.1307,  0.0867, -0.3531, -0.5012, -0.2177,  0.2670, -0.0390, -0.2868,\n",
      "          0.1411,  0.0864]], grad_fn=<AddmmBackward0>)\n"
     ]
    }
   ],
   "source": [
    "class MLP(nn.Module):  \n",
    "    def __init__(self):  \n",
    "        super().__init__()  \n",
    "        self.hidden = nn.Linear(20, 256)  \n",
    "        self.output = nn.Linear(256, 10)  \n",
    "    def forward(self, x):\n",
    "        return self.output(F.relu(self.hidden(x)))  \n",
    "net = MLP()  \n",
    "X = torch.randn(size=(2, 20))  \n",
    "Y = net(X)\n",
    "print(Y)"
   ]
  },
  {
   "cell_type": "markdown",
   "id": "3efcdf86-5536-4370-8fa6-24a6d17fbe16",
   "metadata": {},
   "source": [
    "将模型的参数存储在一个叫做“mlp.params”的文件中。"
   ]
  },
  {
   "cell_type": "code",
   "execution_count": 56,
   "id": "cea99076-e313-40b9-88a5-97162984261f",
   "metadata": {},
   "outputs": [],
   "source": [
    "torch.save(net.state_dict(), 'mlp.params')"
   ]
  },
  {
   "cell_type": "code",
   "execution_count": 58,
   "id": "7a3a1df5-80f9-4896-8029-fa4e38836bd5",
   "metadata": {},
   "outputs": [
    {
     "name": "stdout",
     "output_type": "stream",
     "text": [
      "MLP(\n",
      "  (hidden): Linear(in_features=20, out_features=256, bias=True)\n",
      "  (output): Linear(in_features=256, out_features=10, bias=True)\n",
      ")\n"
     ]
    },
    {
     "data": {
      "text/plain": [
       "MLP(\n",
       "  (hidden): Linear(in_features=20, out_features=256, bias=True)\n",
       "  (output): Linear(in_features=256, out_features=10, bias=True)\n",
       ")"
      ]
     },
     "execution_count": 58,
     "metadata": {},
     "output_type": "execute_result"
    }
   ],
   "source": [
    "clone = MLP()  \n",
    "print(clone)\n",
    "clone.load_state_dict(torch.load('mlp.params',weights_only=True))\n",
    "clone.eval()"
   ]
  },
  {
   "cell_type": "code",
   "execution_count": 60,
   "id": "b4b453a9-2baa-482f-b729-b0abbe7cb587",
   "metadata": {},
   "outputs": [
    {
     "data": {
      "text/plain": [
       "tensor([[True, True, True, True, True, True, True, True, True, True],\n",
       "        [True, True, True, True, True, True, True, True, True, True]])"
      ]
     },
     "execution_count": 60,
     "metadata": {},
     "output_type": "execute_result"
    }
   ],
   "source": [
    "Y_clone = clone(X)  \n",
    "Y_clone == Y"
   ]
  },
  {
   "cell_type": "code",
   "execution_count": null,
   "id": "870643fe-af43-44a4-84e6-4be8f18b51b1",
   "metadata": {},
   "outputs": [],
   "source": []
  }
 ],
 "metadata": {
  "kernelspec": {
   "display_name": "RS",
   "language": "python",
   "name": "rs"
  },
  "language_info": {
   "codemirror_mode": {
    "name": "ipython",
    "version": 3
   },
   "file_extension": ".py",
   "mimetype": "text/x-python",
   "name": "python",
   "nbconvert_exporter": "python",
   "pygments_lexer": "ipython3",
   "version": "3.11.10"
  }
 },
 "nbformat": 4,
 "nbformat_minor": 5
}
